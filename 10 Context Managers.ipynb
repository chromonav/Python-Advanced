{
 "cells": [
  {
   "cell_type": "markdown",
   "metadata": {
    "collapsed": true,
    "slideshow": {
     "slide_type": "slide"
    }
   },
   "source": [
    "# Context Managers"
   ]
  },
  {
   "cell_type": "markdown",
   "metadata": {
    "slideshow": {
     "slide_type": "subslide"
    }
   },
   "source": [
    "## The `with` statement\n",
    "* Sometimes you don't want to catch/silence exceptions, but want to be sure some cleanup is done regardless of what happens"
   ]
  },
  {
   "cell_type": "code",
   "execution_count": null,
   "metadata": {},
   "outputs": [],
   "source": [
    "def count_lines(filename):\n",
    "    \"\"\"Count the number of lines in a file\"\"\"\n",
    "    file = open(filename, 'r')\n",
    "    try:  \n",
    "        s = 1\n",
    "        return(len(file.readline()) + s)\n",
    "    finally:\n",
    "        print('finally')\n",
    "        file.close()\n",
    "        \n",
    "# if file fails to open, exception will be thrown before try/finally block, and\n",
    "# anything else that can go wrong will go wrong inside the block, so the file\n",
    "# will be open by the time we get to the finally block…so what's the problem?"
   ]
  },
  {
   "cell_type": "markdown",
   "metadata": {
    "slideshow": {
     "slide_type": "subslide"
    }
   },
   "source": [
    "# The `with` statment (cont'd)\n",
    "* __`with`__ introduces a new block, like try, but with a very different purpose in mind!\n",
    " * __`with`__ statement sets up a temporary context and reliably tears it down, under the control of a context manager object"
   ]
  },
  {
   "cell_type": "code",
   "execution_count": null,
   "metadata": {},
   "outputs": [],
   "source": [
    "with open('myfile', 'w') as file:\n",
    "    file.write('Now is the time')\n",
    "    print('inside with block, file.closed =', file.closed)\n",
    "\n",
    "print('outside with block, file.closed =', file.closed)"
   ]
  },
  {
   "cell_type": "markdown",
   "metadata": {},
   "source": [
    "* __`with`__ statement designed to simplify __`try/finally`__ pattern\n",
    "* prevents errors\n",
    "* reduces boilerplate code\n",
    "* makes APIs safer"
   ]
  },
  {
   "cell_type": "markdown",
   "metadata": {
    "slideshow": {
     "slide_type": "subslide"
    }
   },
   "source": [
    "## Context Managers\n",
    "* the context manager runs some code before the with clause is executed and runs some cleanup code afterwards\n",
    " * in the case of open(), the file is opened prior to the with block being entered, and closed at the end of the block \n",
    " * in this case, the context revolves around an open file object, which is made available to the block via the name given in the as clause\n",
    "   * in other words, all operations inside the with clause are said to be executed within the context of the open file\n",
    " * in other words, there need not be such an object, and in that case, the as clause is optional\n",
    "* context manager protocol consists of the `__enter__()` and `__exit__()` methods"
   ]
  },
  {
   "cell_type": "code",
   "execution_count": null,
   "metadata": {
    "slideshow": {
     "slide_type": "subslide"
    }
   },
   "outputs": [],
   "source": [
    "# A context manager to suppress exceptions\n",
    "class SuppressErrors():\n",
    "    def __init__(self, *exceptions):\n",
    "        \"\"\"Populate list of exceptions to suppress.\n",
    "  \n",
    "        If list is empty, suppress ALL exceptions because all exceptions\n",
    "        inherit from the base class Exception.\n",
    "        \"\"\"\n",
    "        # Add some instrumentation so we can see how this works\n",
    "        print('in __init__() method')\n",
    "        if not exceptions:\n",
    "            exceptions = (Exception,)\n",
    "        self.exceptions = exceptions\n",
    "        \n",
    "    # __enter__() called just prior to execution of code inside with block\n",
    "    def __enter__(self):\n",
    "        \"\"\"Nothing to do here. Exception handling occurs in __exit__().\"\"\"\n",
    "        return 'test'\n",
    "\n",
    "    # Takes 3 args and is called when code block finishes\n",
    "    def __exit__(self, exc_class, exc_instance, tb):\n",
    "        \"\"\"This method \"suppresses\" exceptions.\n",
    "\n",
    "        Exception suppression is performed by way of the return value.\n",
    "        If it completes without a return value, the original exception\n",
    "        will be re-raised. Returning True catches the exception and\n",
    "        suppresses it.\n",
    "        \"\"\"\n",
    "        \n",
    "        print(\"in __exit__() method\")\n",
    "        if isinstance(exc_instance, self.exceptions):\n",
    "            import traceback\n",
    "            traceback.print_tb(tb)\n",
    "            return True\n",
    "        return False"
   ]
  },
  {
   "cell_type": "code",
   "execution_count": null,
   "metadata": {},
   "outputs": [],
   "source": [
    "with SuppressErrors(DivideByZeroException) as something:\n",
    "    print(f'something is \"{something}\"')\n",
    "    3 / 0\n",
    "print('all is well')"
   ]
  },
  {
   "cell_type": "markdown",
   "metadata": {
    "slideshow": {
     "slide_type": "subslide"
    }
   },
   "source": [
    "## A Frivolous but Fun Example from Fluent Python"
   ]
  },
  {
   "cell_type": "code",
   "execution_count": null,
   "metadata": {},
   "outputs": [],
   "source": [
    "class LookingGlass:\n",
    "    def __enter__(self):\n",
    "        import sys\n",
    "        self.original_write = sys.stdout.write\n",
    "        sys.stdout.write = self.reverse_write\n",
    "        return 'JABBERWOCKY'\n",
    "\n",
    "    def reverse_write(self, text):\n",
    "        self.original_write(text[::-1])\n",
    "\n",
    "    def __exit__(self, exc_type, exc_value, traceback):\n",
    "        import sys\n",
    "        sys.stdout.write = self.original_write\n",
    "        if exc_type is ZeroDivisionError:\n",
    "            print('Please DO NOT divide by zero!')\n",
    "            return True       \n",
    "\n",
    "with LookingGlass() as what:\n",
    "    print('Lewis Carroll')\n",
    "    print(what)\n",
    "    3 / 0\n",
    "    \n",
    "print('back to normal')"
   ]
  },
  {
   "cell_type": "code",
   "execution_count": null,
   "metadata": {
    "slideshow": {
     "slide_type": "subslide"
    }
   },
   "outputs": [],
   "source": [
    "manager = LookingGlass()\n",
    "print(manager)\n",
    "monster = manager.__enter__()\n",
    "print(monster == 'JABBERWOCKY')\n",
    "print(monster)\n",
    "print(manager)\n",
    "manager.__exit__(None, None, None)\n",
    "print(monster)"
   ]
  },
  {
   "cell_type": "markdown",
   "metadata": {},
   "source": [
    "### Context Manager Logging"
   ]
  },
  {
   "cell_type": "code",
   "execution_count": null,
   "metadata": {
    "slideshow": {
     "slide_type": "-"
    }
   },
   "outputs": [],
   "source": [
    "import logging\n",
    "\n",
    "class LogBlock:\n",
    "    def __init__(self, logger, level=logging.INFO):\n",
    "        self._logger = logger\n",
    "        self._level = level\n",
    "\n",
    "    def __enter__(self):\n",
    "        self._logger.log(self._level, 'Enter')\n",
    "\n",
    "    def __exit__(self, ex_type, ex_value, ex_tb):\n",
    "        if ex_type is None:\n",
    "            self._logger.log(self._level, 'Exit (no exception)')\n",
    "        else:\n",
    "            self._logger.log(self._level, 'Exit (with exception %s)', ex_type)\n",
    "            return True\n",
    "\n",
    "print('This is before the with statement')\n",
    "\n",
    "with LogBlock(logging.getLogger('mylogger'), logging.ERROR):\n",
    "    print('Now inside the block')\n",
    "    print('still inside block')\n",
    "    \n",
    "with LogBlock(logging.getLogger('mylogger'), logging.ERROR):\n",
    "    print('Now inside the 2nd block')\n",
    "    print('still inside 2nd block')\n",
    "    raise ValueError    "
   ]
  },
  {
   "cell_type": "markdown",
   "metadata": {
    "slideshow": {
     "slide_type": "subslide"
    }
   },
   "source": [
    "# Lab: Context Managers\n",
    "* Write a context manager that prints out balanced HTML nodes. Use the test code below.\n",
    "\n",
    "Test code:\n",
    "\n",
    "<pre>\n",
    "with Node('html'):\n",
    "    with Node('body'):\n",
    "        with Node('h1'):\n",
    "             print('Page Title')\n",
    "</pre>\n",
    "\n",
    "You should see the following result:\n",
    "\n",
    "<pre>\n",
    "&lt;html>\n",
    "&lt;body>\n",
    "&lt;h1>\n",
    "Page Title\n",
    "&lt;/h1>\n",
    "&lt;/body>\n",
    "&lt;/html>\n",
    "</pre>"
   ]
  },
  {
   "cell_type": "markdown",
   "metadata": {
    "slideshow": {
     "slide_type": "subslide"
    }
   },
   "source": [
    "### contextlib\n",
    "* This module provides utilities for common tasks involving the with statement, e.g.,\n",
    " * printing to stderr\n",
    " * closing something upon completion of block"
   ]
  },
  {
   "cell_type": "code",
   "execution_count": null,
   "metadata": {
    "slideshow": {
     "slide_type": "subslide"
    }
   },
   "outputs": [],
   "source": [
    "import sys\n",
    "\n",
    "from contextlib import redirect_stdout\n",
    "\n",
    "print(\"before with statement\")\n",
    "\n",
    "with redirect_stdout(sys.stderr):\n",
    "    print(\"NOTE! the output of help goes to stderr\")\n",
    "    help(pow)\n",
    "\n",
    "print(\"after with statement\")"
   ]
  },
  {
   "cell_type": "code",
   "execution_count": null,
   "metadata": {
    "slideshow": {
     "slide_type": "subslide"
    }
   },
   "outputs": [],
   "source": [
    "import contextlib\n",
    "\n",
    "class Something():\n",
    "    def __init__(self):\n",
    "        print('initialize!')\n",
    "        \n",
    "    def close(self):\n",
    "        print('closing!')\n",
    "        \n",
    "with contextlib.closing(Something()) as foo:\n",
    "    print('foo is', foo)"
   ]
  },
  {
   "cell_type": "code",
   "execution_count": null,
   "metadata": {},
   "outputs": [],
   "source": []
  }
 ],
 "metadata": {
  "celltoolbar": "Slideshow",
  "kernelspec": {
   "display_name": "Python 3.8.9 64-bit",
   "language": "python",
   "name": "python3"
  },
  "language_info": {
   "codemirror_mode": {
    "name": "ipython",
    "version": 3
   },
   "file_extension": ".py",
   "mimetype": "text/x-python",
   "name": "python",
   "nbconvert_exporter": "python",
   "pygments_lexer": "ipython3",
   "version": "3.8.9"
  },
  "vscode": {
   "interpreter": {
    "hash": "31f2aee4e71d21fbe5cf8b01ff0e069b9275f58929596ceb00d14d90e3e16cd6"
   }
  }
 },
 "nbformat": 4,
 "nbformat_minor": 1
}
