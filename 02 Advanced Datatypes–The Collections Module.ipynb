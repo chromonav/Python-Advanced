{
 "cells": [
  {
   "cell_type": "markdown",
   "metadata": {},
   "source": [
    "# Have you heard of `collections` module?\n",
    "\n"
   ]
  },
  {
   "cell_type": "markdown",
   "metadata": {},
   "source": [
    "<br/><br/><br/><br/><br/><br/><br/><br/><br/><br/><br/><br/><br/><br/><br/><br/><br/><br/><br/><br/><br/><br/><br/><br/><br/><br/><br/><br/><br/>"
   ]
  },
  {
   "cell_type": "markdown",
   "metadata": {},
   "source": []
  },
  {
   "cell_type": "markdown",
   "metadata": {
    "slideshow": {
     "slide_type": "subslide"
    }
   },
   "source": [
    "## What happens if a key is not present in a dictionary? What happens? - DefaultDict\n"
   ]
  },
  {
   "cell_type": "code",
   "execution_count": 3,
   "metadata": {},
   "outputs": [
    {
     "name": "stdout",
     "output_type": "stream",
     "text": [
      "0\n"
     ]
    }
   ],
   "source": [
    "from collections import defaultdict\n",
    "d = defaultdict(int)\n",
    "print(d['hello'])\n"
   ]
  },
  {
   "cell_type": "markdown",
   "metadata": {},
   "source": [
    "# What are default dictionaries and what do they do?\n",
    "<br/><br/><br/><br/><br/><br/><br/><br/><br/><br/><br/><br/><br/><br/><br/><br/><br/><br/><br/><br/><br/><br/><br/><br/><br/><br/><br/><br/>"
   ]
  },
  {
   "cell_type": "markdown",
   "metadata": {},
   "source": [
    "### Without default dictionary"
   ]
  },
  {
   "cell_type": "code",
   "execution_count": 1,
   "metadata": {},
   "outputs": [
    {
     "data": {
      "text/plain": [
       "{'a': 4,\n",
       " 'n': 3,\n",
       " 't': 3,\n",
       " 'i': 5,\n",
       " 'd': 1,\n",
       " 's': 4,\n",
       " 'e': 2,\n",
       " 'b': 1,\n",
       " 'l': 1,\n",
       " 'h': 1,\n",
       " 'm': 2,\n",
       " 'r': 1}"
      ]
     },
     "execution_count": 1,
     "metadata": {},
     "output_type": "execute_result"
    }
   ],
   "source": [
    "# what we did before...\n",
    "\n",
    "def count_letters(word):\n",
    "    '''Returns a dict of letters and how many times the letter\n",
    "    appeared in the word passed in'''\n",
    "    count = {}\n",
    "    for ltr in word:\n",
    "        count[ltr] = count.get(ltr, 0) + 1\n",
    "    return count\n",
    "\n",
    "count_letters('antidisestablishmentarianism')"
   ]
  },
  {
   "cell_type": "markdown",
   "metadata": {},
   "source": []
  },
  {
   "cell_type": "code",
   "execution_count": 4,
   "metadata": {},
   "outputs": [
    {
     "data": {
      "text/plain": [
       "defaultdict(int,\n",
       "            {'o': 4,\n",
       "             'n': 1,\n",
       "             'e': 7,\n",
       "             ' ': 6,\n",
       "             't': 5,\n",
       "             'w': 2,\n",
       "             'h': 3,\n",
       "             'r': 4,\n",
       "             'f': 1,\n",
       "             'u': 1})"
      ]
     },
     "execution_count": 4,
     "metadata": {},
     "output_type": "execute_result"
    }
   ],
   "source": [
    "from collections import defaultdict\n",
    "\n",
    "def count_letters(word):\n",
    "    '''Returns a dict of letters and how many times the letter\n",
    "    appeared in the string passed in.'''\n",
    "    # When creating a defaultdict,\n",
    "    # the passed argument dictates what the\n",
    "    # default value will be (int = 0, str = \"\", list = [])\n",
    "    count = defaultdict(int)\n",
    "    for ltr in word:\n",
    "        count[ltr] += 1\n",
    "    return count\n",
    "\n",
    "count_letters('one two three four two three three')"
   ]
  },
  {
   "cell_type": "markdown",
   "metadata": {},
   "source": [
    "<br/><br/><br/><br/><br/><br/><br/><br/><br/><br/><br/><br/> \n",
    "\n",
    "# Is there anything more to it? \n",
    "<br/><br/><br/><br/><br/><br/><br/><br/><br/><br/><br/><br/>"
   ]
  },
  {
   "cell_type": "code",
   "execution_count": 39,
   "metadata": {},
   "outputs": [
    {
     "data": {
      "text/plain": [
       "'Not Present'"
      ]
     },
     "execution_count": 39,
     "metadata": {},
     "output_type": "execute_result"
    }
   ],
   "source": [
    "from collections import defaultdict\n",
    "def def_value():\n",
    "    return \"Not Present\"\n",
    "      \n",
    "# Defining the dict\n",
    "d = defaultdict(def_value)\n",
    "d['hello']"
   ]
  },
  {
   "cell_type": "markdown",
   "metadata": {},
   "source": [
    "# How to convert dictionary to default dictionary?"
   ]
  },
  {
   "cell_type": "code",
   "execution_count": 5,
   "metadata": {},
   "outputs": [
    {
     "name": "stdout",
     "output_type": "stream",
     "text": [
      "defaultdict(<class 'int'>, {1: 0, 2: 1, 3: 0})\n"
     ]
    }
   ],
   "source": [
    "a = {1:0, 2:1, 3:0}\n",
    "from collections import defaultdict\n",
    "print(defaultdict(int,a))"
   ]
  },
  {
   "cell_type": "markdown",
   "metadata": {},
   "source": []
  },
  {
   "cell_type": "markdown",
   "metadata": {},
   "source": [
    "# What are alternatives to default dictionary? \n",
    "<br/><br/><br/><br/><br/><br/><br/><br/><br/><br/><br/><br/><br/><br/><br/>"
   ]
  },
  {
   "cell_type": "markdown",
   "metadata": {
    "slideshow": {
     "slide_type": "subslide"
    }
   },
   "source": [
    "## Lab: Default Dictionaries\n",
    "* read from data from a string variable containing following:\n",
    "<pre>\n",
    "    apple 2\n",
    "    pear 3\n",
    "    cherry 5\n",
    "    apple 3\n",
    "    pear 6\n",
    "    apple 1\n",
    "</pre>\n",
    "(as shown above, words may be duplicated)\n",
    "* generate a __`defaultdict`__ where the keys are the words and the value are a _list_ of all the counts for that word, e.g.,\n",
    "<pre>\n",
    "defaultdict(&lt;class 'list'>, {'apple': ['2', '3', '1'], 'pear': ['3', '6'], 'cherry': ['5']})\n",
    "</pre>\n",
    "\n",
    "\n",
    "<br/><br/><br/><br/><br/><br/><br/><br/><br/><br/><br/><br/><br/><br/><br/><br/><br/><br/><br/><br/><br/><br/><br/><br/><br/><br/><br/><br/><br/><br/>"
   ]
  },
  {
   "cell_type": "code",
   "execution_count": 45,
   "metadata": {},
   "outputs": [
    {
     "data": {
      "text/plain": [
       "defaultdict(list,\n",
       "            {'apple': ['2', '3', '1'], 'pear': ['3', '6'], 'cherry': ['5']})"
      ]
     },
     "execution_count": 45,
     "metadata": {},
     "output_type": "execute_result"
    }
   ],
   "source": [
    "from collections import defaultdict\n",
    "s = \"\"\"\n",
    "apple 2\n",
    "pear 3\n",
    "cherry 5\n",
    "apple 3\n",
    "pear 6\n",
    "apple 1\n",
    "\"\"\"\n",
    "defdict = defaultdict(list)\n",
    "\n",
    "for i in s.split(\"\\n\")[1:-1]:\n",
    "    keyval = i.split()\n",
    "    defdict[keyval[0]].append(keyval[1])\n",
    "\n",
    "defdict\n",
    "\n"
   ]
  },
  {
   "cell_type": "markdown",
   "metadata": {},
   "source": [
    "## Now, for more fun, let's implement a default dictionary without using the __`collections`__ module\n",
    "* In other words, make your own class (e.g., MyDefaultDict)\n",
    "* What class or classes should it inherit from?\n",
    "* You will need to create the method `__getitem__(self, key)__` which is what Python uses under the hood to retrieve an item from a dictionary\n",
    " * if the key in question is not currenty in the dict, what should you return?\n",
    "\n",
    " <br/><br/><br/><br/><br/><br/><br/><br/><br/><br/><br/><br/><br/><br/><br/>"
   ]
  },
  {
   "cell_type": "markdown",
   "metadata": {},
   "source": []
  },
  {
   "cell_type": "code",
   "execution_count": 8,
   "metadata": {},
   "outputs": [
    {
     "name": "stdout",
     "output_type": "stream",
     "text": [
      "{'a': [1]}\n"
     ]
    }
   ],
   "source": [
    "def defaultdict(default_type):\n",
    "    class DefaultDict(dict):\n",
    "        def __getitem__(self, key):\n",
    "            if key not in self:\n",
    "                dict.__setitem__(self, key, default_type())\n",
    "            return dict.__getitem__(self, key)\n",
    "    return DefaultDict()\n",
    "\n",
    "\n",
    "list_dict = defaultdict(list)\n",
    "list_dict['a'].append(1)\n",
    "print(list_dict) # {'a': [1]}"
   ]
  },
  {
   "cell_type": "markdown",
   "metadata": {
    "slideshow": {
     "slide_type": "slide"
    }
   },
   "source": [
    "<br/><br/><br/><br/><br/><br/><br/><br/><br/><br/><br/><br/><br/><br/><br/><br/>\n",
    "# The `collections` module: Deque"
   ]
  },
  {
   "cell_type": "markdown",
   "metadata": {
    "slideshow": {
     "slide_type": "subslide"
    }
   },
   "source": [
    "# What is `D`-`E`-`que`?\n",
    "![image](deque.png\n",
    ")\n",
    "<br/><br/><br/><br/><br/><br/><br/><br/><br/><br/><br/><br/><br/><br/><br/><br/>\n",
    "\n",
    "# How to define a Deque"
   ]
  },
  {
   "cell_type": "code",
   "execution_count": 9,
   "metadata": {},
   "outputs": [
    {
     "name": "stdout",
     "output_type": "stream",
     "text": [
      "deque(['name', 'age', 'DOB'])\n"
     ]
    }
   ],
   "source": [
    "\n",
    "from collections import deque\n",
    "     \n",
    "# Declaring deque\n",
    "queue = deque(['name','age','DOB']) \n",
    "     \n",
    "print(queue)"
   ]
  },
  {
   "cell_type": "markdown",
   "metadata": {},
   "source": [
    "# Appending Items Efficiently  \n",
    "\n",
    "`append(item)`  \n",
    "`appendleft(item)`\n",
    "<br/><br/><br/><br/><br/><br/><br/><br/><br/><br/>"
   ]
  },
  {
   "cell_type": "code",
   "execution_count": 2,
   "metadata": {},
   "outputs": [
    {
     "name": "stdout",
     "output_type": "stream",
     "text": [
      "deque:  deque([1, 2, 3])\n",
      "\n",
      "The deque after appending at right is : \n",
      "deque([1, 2, 3, 4])\n",
      "\n",
      "The deque after appending at left is : \n",
      "deque([6, 1, 2, 3, 4])\n"
     ]
    }
   ],
   "source": [
    "# importing \"collections\" for deque operations\n",
    "import collections\n",
    "\n",
    "# initializing deque\n",
    "de = collections.deque([1, 2, 3])\n",
    "print(\"deque: \", de)\n",
    "\n",
    "# using append() to insert element at right end\n",
    "# inserts 4 at the end of deque\n",
    "de.append(4)\n",
    "\n",
    "# printing modified deque\n",
    "print(\"\\nThe deque after appending at right is : \")\n",
    "print(de)\n",
    "\n",
    "# using appendleft() to insert element at left end\n",
    "# inserts 6 at the beginning of deque\n",
    "de.appendleft(6)\n",
    "\n",
    "# printing modified deque\n",
    "print(\"\\nThe deque after appending at left is : \")\n",
    "print(de)\n"
   ]
  },
  {
   "cell_type": "markdown",
   "metadata": {},
   "source": [
    "# Pop Items"
   ]
  },
  {
   "cell_type": "markdown",
   "metadata": {},
   "source": [
    "`pop()`   \n",
    "`popleft()`\n",
    "\n",
    "<br/><br/><br/><br/><br/><br/><br/><br/><br/><br/>\n"
   ]
  },
  {
   "cell_type": "markdown",
   "metadata": {},
   "source": []
  },
  {
   "cell_type": "code",
   "execution_count": 12,
   "metadata": {},
   "outputs": [
    {
     "name": "stdout",
     "output_type": "stream",
     "text": [
      "deque:  deque([1, 2, 3])\n",
      "\n",
      "The deque after deleting from right is : \n",
      "deque([1, 2])\n",
      "\n",
      "The deque after deleting from left is : \n",
      "deque([2])\n"
     ]
    }
   ],
   "source": [
    "# importing \"collections\" for deque operations\n",
    "import collections\n",
    "\n",
    "# initializing deque\n",
    "de = collections.deque([1, 2, 3])\n",
    "print(\"deque: \", de)\n",
    "\n",
    "# using pop() to delete element from right end\n",
    "# deletes 4 from the right end of deque\n",
    "de.pop()\n",
    "\n",
    "# printing modified deque\n",
    "print(\"\\nThe deque after deleting from right is : \")\n",
    "print(de)\n",
    "\n",
    "# using popleft() to delete element from left end\n",
    "# deletes 6 from the left end of deque\n",
    "de.popleft()\n",
    "\n",
    "# printing modified deque\n",
    "print(\"\\nThe deque after deleting from left is : \")\n",
    "print(de)\n"
   ]
  },
  {
   "cell_type": "markdown",
   "metadata": {},
   "source": [
    "# Accessing Items in a deque\n",
    "`index(ele, beg, end)`  \n",
    "`insert(i, a)`  \n",
    "`remove()`  \n",
    "`count()`  \n",
    "<br/><br/><br/><br/><br/><br/><br/><br/><br/><br/>"
   ]
  },
  {
   "cell_type": "code",
   "execution_count": 1,
   "metadata": {},
   "outputs": [
    {
     "name": "stdout",
     "output_type": "stream",
     "text": [
      "The number 4 first occurs at a position : \n",
      "4\n",
      "The deque after inserting 3 at 5th position is : \n",
      "deque([1, 2, 3, 3, 3, 4, 2, 4])\n",
      "The count of 3 in deque is : \n",
      "3\n",
      "The deque after deleting first occurrence of 3 is : \n",
      "deque([1, 2, 3, 3, 4, 2, 4])\n"
     ]
    }
   ],
   "source": [
    "# Python code to demonstrate working of\n",
    "# insert(), index(), remove(), count()\n",
    "\n",
    "# importing \"collections\" for deque operations\n",
    "import collections\n",
    "\n",
    "# initializing deque\n",
    "de = collections.deque([1, 2, 3, 3, 4, 2, 4])\n",
    "\n",
    "# using index() to print the first occurrence of 4\n",
    "print (\"The number 4 first occurs at a position : \")\n",
    "print (de.index(4,2,5))\n",
    "\n",
    "# using insert() to insert the value 3 at 5th position\n",
    "de.insert(4,3)\n",
    "\n",
    "# printing modified deque\n",
    "print(\"The deque after inserting 3 at 5th position is : \")\n",
    "print(de)\n",
    "\n",
    "# using count() to count the occurrences of 3\n",
    "print (\"The count of 3 in deque is : \")\n",
    "print (de.count(3))\n",
    "\n",
    "# using remove() to remove the first occurrence of 3\n",
    "de.remove(3)\n",
    "\n",
    "# printing modified deque\n",
    "print (\"The deque after deleting first occurrence of 3 is : \")\n",
    "print (de)\n"
   ]
  },
  {
   "cell_type": "markdown",
   "metadata": {},
   "source": [
    "#  Other operations on deque\n",
    "`extend(iterable)`  \n",
    "`extendleft(iterable)`  \n",
    "`reverse()`  \n",
    "`rotate()`\n",
    "`maxlen` attribute   \n",
    "\n",
    "<br/><br/><br/><br/><br/><br/><br/><br/><br/><br/>"
   ]
  },
  {
   "cell_type": "code",
   "execution_count": 14,
   "metadata": {},
   "outputs": [
    {
     "name": "stdout",
     "output_type": "stream",
     "text": [
      "The deque after extending deque at end is : \n",
      "deque([1, 2, 3, 4, 5, 6])\n",
      "The deque after extending deque at beginning is : \n",
      "deque([9, 8, 7, 1, 2, 3, 4, 5, 6])\n",
      "The deque after rotating deque is : \n",
      "deque([1, 2, 3, 4, 5, 6, 9, 8, 7])\n",
      "The deque after reversing deque is : \n",
      "deque([7, 8, 9, 6, 5, 4, 3, 2, 1])\n"
     ]
    }
   ],
   "source": [
    "# Python code to demonstrate working of\n",
    "# extend(), extendleft(), rotate(), reverse()\n",
    "\n",
    "# importing \"collections\" for deque operations\n",
    "import collections\n",
    "\n",
    "# initializing deque\n",
    "de = collections.deque([1, 2, 3,])\n",
    "\n",
    "# using extend() to add numbers to right end\n",
    "# adds 4,5,6 to right end\n",
    "de.extend([4,5,6])\n",
    "\n",
    "# printing modified deque\n",
    "print (\"The deque after extending deque at end is : \")\n",
    "print (de)\n",
    "\n",
    "# using extendleft() to add numbers to left end\n",
    "# adds 7,8,9 to left end\n",
    "de.extendleft([7,8,9])\n",
    "\n",
    "# printing modified deque\n",
    "print (\"The deque after extending deque at beginning is : \")\n",
    "print (de)\n",
    "\n",
    "# using rotate() to rotate the deque\n",
    "# rotates by 3 to left\n",
    "de.rotate(-3)\n",
    "\n",
    "# printing modified deque\n",
    "print (\"The deque after rotating deque is : \")\n",
    "print (de)\n",
    "\n",
    "# using reverse() to reverse the deque\n",
    "de.reverse()\n",
    "\n",
    "# printing modified deque\n",
    "print (\"The deque after reversing deque is : \")\n",
    "print (de)\n"
   ]
  },
  {
   "cell_type": "code",
   "execution_count": 28,
   "metadata": {},
   "outputs": [],
   "source": [
    "from collections import deque\n",
    "four_numbers = deque([0, 1, 2, 3, 4], maxlen=4) # Discard 0\n",
    "four_numbers.append(5) "
   ]
  },
  {
   "cell_type": "markdown",
   "metadata": {},
   "source": [
    "# Lab: Keeping a Page History\n",
    "You’re building an application that scrapes data from search engines and social media sites. At some point, you need to keep track of the three last sites your application requested data from."
   ]
  },
  {
   "cell_type": "markdown",
   "metadata": {},
   "source": [
    "# When to use Deques \n",
    "<br/><br/><br/>\n",
    "\n",
    "# When not to use deques\n",
    "<br/><br/><br/><br/><br/><br/><br/><br/><br/><br/>"
   ]
  },
  {
   "cell_type": "markdown",
   "metadata": {
    "slideshow": {
     "slide_type": "subslide"
    }
   },
   "source": [
    "# Named Tuples"
   ]
  },
  {
   "cell_type": "markdown",
   "metadata": {},
   "source": [
    "# What are named Tuples ?"
   ]
  },
  {
   "cell_type": "code",
   "execution_count": 4,
   "metadata": {},
   "outputs": [
    {
     "name": "stdout",
     "output_type": "stream",
     "text": [
      "Point(x=1, y=3)\n",
      "<class '__main__.Point'>\n"
     ]
    }
   ],
   "source": [
    "from collections import namedtuple\n",
    "Point = namedtuple('Point', 'x y')\n",
    "# first argument is the name of the tuple class itself\n",
    "# second argument is attribute names as an iterable of strings or a\n",
    "# single space/comma-delimited string\n",
    "point1 = Point(1, 3)\n",
    "print(point1, type(point1), sep='\\n')"
   ]
  },
  {
   "cell_type": "code",
   "execution_count": 5,
   "metadata": {},
   "outputs": [
    {
     "name": "stdout",
     "output_type": "stream",
     "text": [
      "Point(x=-3, y=-2)\n"
     ]
    }
   ],
   "source": [
    "point2 = Point(-3, -2)\n",
    "print(point2)"
   ]
  },
  {
   "cell_type": "code",
   "execution_count": 6,
   "metadata": {},
   "outputs": [
    {
     "name": "stdout",
     "output_type": "stream",
     "text": [
      "1 3\n"
     ]
    }
   ],
   "source": [
    "print(point1[0], point1[1]) # what we would do if just a tuple"
   ]
  },
  {
   "cell_type": "code",
   "execution_count": 7,
   "metadata": {},
   "outputs": [
    {
     "name": "stdout",
     "output_type": "stream",
     "text": [
      "1 3\n"
     ]
    }
   ],
   "source": [
    "print(point1.x, point1.y) # much nicer, because fields are named"
   ]
  },
  {
   "cell_type": "code",
   "execution_count": null,
   "metadata": {},
   "outputs": [],
   "source": [
    "from collections import namedtuple\n",
    "City = namedtuple('City', 'name country population coordinates')\n",
    "tokyo = City('Tokyo', 'JP', 36.933, (35.689722, 139.691667))\n",
    "print(tokyo)"
   ]
  },
  {
   "cell_type": "code",
   "execution_count": null,
   "metadata": {},
   "outputs": [],
   "source": [
    "print(tokyo.population) # Prefer to use attribute or field names\n",
    "print(tokyo.coordinates)\n",
    "print(tokyo[1]) # use indexing if I wish"
   ]
  },
  {
   "cell_type": "code",
   "execution_count": null,
   "metadata": {},
   "outputs": [],
   "source": [
    "type(City), type(tokyo)"
   ]
  },
  {
   "cell_type": "code",
   "execution_count": null,
   "metadata": {},
   "outputs": [],
   "source": [
    "for field in City._fields: # tuple containing field names\n",
    "    print(field)"
   ]
  },
  {
   "cell_type": "code",
   "execution_count": null,
   "metadata": {},
   "outputs": [],
   "source": [
    "LatLong = namedtuple('LatLong', 'lat long')\n",
    "# the below is a regular tuple\n",
    "delhi_data = 'Delhi NCR', 'IN', 21.935, LatLong(28.613889, 77.2098889)"
   ]
  },
  {
   "cell_type": "code",
   "execution_count": null,
   "metadata": {},
   "outputs": [],
   "source": [
    "delhi = City._make(delhi_data)\n",
    "delhi"
   ]
  },
  {
   "cell_type": "code",
   "execution_count": null,
   "metadata": {},
   "outputs": [],
   "source": [
    "delhi2 = City(*delhi_data)\n",
    "delhi2"
   ]
  },
  {
   "cell_type": "code",
   "execution_count": null,
   "metadata": {},
   "outputs": [],
   "source": [
    "delhi == delhi2"
   ]
  },
  {
   "cell_type": "code",
   "execution_count": null,
   "metadata": {},
   "outputs": [],
   "source": [
    "d = delhi._asdict() # returns an OrderedDict built from named tuple\n",
    "print(d)"
   ]
  },
  {
   "cell_type": "markdown",
   "metadata": {
    "slideshow": {
     "slide_type": "subslide"
    }
   },
   "source": [
    "# Lab: Named Tuples\n",
    "1. Create a named tuple called __`Card`__ (representing a playing card) which has two fields, __`rank`__ and __`suit`__\n",
    "2. Create a list of __`Card`__s, which, when initialized, contains all 52 cards in a deck\n",
    "3. In other words, the list (or deck) should contain  \n",
    "\n",
    "`[Card(rank=2, suit='clubs'), Card(rank=3, suit='clubs'), Card(rank=4, suit='clubs'), ..., Card(rank='Q', suit='spades'), Card(rank='K', suit='spades'), Card(rank='A', suit='spades')] `\n",
    "* ranks = 2, 3, 4, ..., 10, J, Q, K, A (strings)\n",
    "* suits = clubs, hearts, diamonds, spades (strings)"
   ]
  },
  {
   "cell_type": "code",
   "execution_count": null,
   "metadata": {},
   "outputs": [],
   "source": []
  },
  {
   "cell_type": "markdown",
   "metadata": {},
   "source": [
    "<br/><br/><br/><br/><br/><br/><br/><br/><br/><br/><br/><br/>"
   ]
  },
  {
   "cell_type": "markdown",
   "metadata": {
    "slideshow": {
     "slide_type": "subslide"
    }
   },
   "source": [
    "# What are Counters?\n"
   ]
  },
  {
   "cell_type": "code",
   "execution_count": 29,
   "metadata": {},
   "outputs": [
    {
     "data": {
      "text/plain": [
       "Counter()"
      ]
     },
     "execution_count": 29,
     "metadata": {},
     "output_type": "execute_result"
    }
   ],
   "source": [
    "from collections import Counter\n",
    "c = Counter()\n",
    "c"
   ]
  },
  {
   "cell_type": "code",
   "execution_count": 9,
   "metadata": {},
   "outputs": [
    {
     "data": {
      "text/plain": [
       "Counter({'a': 4,\n",
       "         'n': 3,\n",
       "         't': 3,\n",
       "         'i': 5,\n",
       "         'd': 1,\n",
       "         's': 4,\n",
       "         'e': 2,\n",
       "         'b': 1,\n",
       "         'l': 1,\n",
       "         'h': 1,\n",
       "         'm': 2,\n",
       "         'r': 1})"
      ]
     },
     "execution_count": 9,
     "metadata": {},
     "output_type": "execute_result"
    }
   ],
   "source": [
    "c = Counter('antidisestablishmentarianism')\n",
    "c"
   ]
  },
  {
   "cell_type": "code",
   "execution_count": 11,
   "metadata": {},
   "outputs": [
    {
     "data": {
      "text/plain": [
       "Counter({'red': 5, 'blue': -1})"
      ]
     },
     "execution_count": 11,
     "metadata": {},
     "output_type": "execute_result"
    }
   ],
   "source": [
    "c = Counter({'red': 5, 'blue': -1})\n",
    "c"
   ]
  },
  {
   "cell_type": "code",
   "execution_count": 12,
   "metadata": {},
   "outputs": [
    {
     "data": {
      "text/plain": [
       "Counter({'foo': 1, 'bar': 2})"
      ]
     },
     "execution_count": 12,
     "metadata": {},
     "output_type": "execute_result"
    }
   ],
   "source": [
    "c = Counter(foo=1, bar=2)\n",
    "c"
   ]
  },
  {
   "cell_type": "code",
   "execution_count": 31,
   "metadata": {},
   "outputs": [
    {
     "data": {
      "text/plain": [
       "<itertools.chain at 0x10c2e6f40>"
      ]
     },
     "execution_count": 31,
     "metadata": {},
     "output_type": "execute_result"
    }
   ],
   "source": [
    "c = Counter(red=6, blue=5, green=3, pink=1,\n",
    "            yellow=-3)\n",
    "c.elements()"
   ]
  },
  {
   "cell_type": "code",
   "execution_count": 14,
   "metadata": {},
   "outputs": [
    {
     "name": "stdout",
     "output_type": "stream",
     "text": [
      "red red red red red red blue blue blue blue blue green green green pink "
     ]
    }
   ],
   "source": [
    "for thing in c.elements(): \n",
    "    print(thing, end=' ')"
   ]
  },
  {
   "cell_type": "code",
   "execution_count": 15,
   "metadata": {},
   "outputs": [
    {
     "data": {
      "text/plain": [
       "[('red', 6), ('blue', 5), ('green', 3)]"
      ]
     },
     "execution_count": 15,
     "metadata": {},
     "output_type": "execute_result"
    }
   ],
   "source": [
    "c.most_common(3)"
   ]
  },
  {
   "cell_type": "code",
   "execution_count": 16,
   "metadata": {},
   "outputs": [
    {
     "data": {
      "text/plain": [
       "Counter({'red': 3,\n",
       "         'blue': 0,\n",
       "         'green': 1,\n",
       "         'pink': 1,\n",
       "         'yellow': -3,\n",
       "         'fuschia': -3})"
      ]
     },
     "execution_count": 16,
     "metadata": {},
     "output_type": "execute_result"
    }
   ],
   "source": [
    "d = Counter(fuschia=3, pink=0, red=3, blue=5, green=2)\n",
    "c.subtract(d) \n",
    "c"
   ]
  },
  {
   "cell_type": "code",
   "execution_count": 32,
   "metadata": {},
   "outputs": [
    {
     "data": {
      "text/plain": [
       "dict_items([('red', 6), ('blue', 5), ('green', 3), ('pink', 1), ('yellow', -3)])"
      ]
     },
     "execution_count": 32,
     "metadata": {},
     "output_type": "execute_result"
    }
   ],
   "source": [
    "c.items() "
   ]
  },
  {
   "cell_type": "code",
   "execution_count": 33,
   "metadata": {},
   "outputs": [
    {
     "data": {
      "text/plain": [
       "Counter({'red': 6, 'blue': 5, 'green': 3, 'pink': 1})"
      ]
     },
     "execution_count": 33,
     "metadata": {},
     "output_type": "execute_result"
    }
   ],
   "source": [
    "+c # generates new Counter, discarding 0s or negatives"
   ]
  },
  {
   "cell_type": "code",
   "execution_count": 19,
   "metadata": {},
   "outputs": [
    {
     "data": {
      "text/plain": [
       "Counter({'red': 3, 'green': 1, 'pink': 1})"
      ]
     },
     "execution_count": 19,
     "metadata": {},
     "output_type": "execute_result"
    }
   ],
   "source": [
    "c = +c\n",
    "c"
   ]
  },
  {
   "cell_type": "code",
   "execution_count": 35,
   "metadata": {},
   "outputs": [
    {
     "data": {
      "text/plain": [
       "Counter({'blue': 5, 'yellow': 3})"
      ]
     },
     "execution_count": 35,
     "metadata": {},
     "output_type": "execute_result"
    }
   ],
   "source": [
    "c = Counter(red=6, blue=-5, green=3, pink=1, yellow=-3)\n",
    "c = -c \n",
    "c"
   ]
  },
  {
   "cell_type": "code",
   "execution_count": 36,
   "metadata": {},
   "outputs": [
    {
     "data": {
      "text/plain": [
       "Counter({'blue': 5, 'yellow': 10, 'red': 6, 'green': 9})"
      ]
     },
     "execution_count": 36,
     "metadata": {},
     "output_type": "execute_result"
    }
   ],
   "source": [
    "d = Counter(red=6, yellow=7, green=9)\n",
    "c.update(d)\n",
    "c"
   ]
  },
  {
   "cell_type": "code",
   "execution_count": 22,
   "metadata": {},
   "outputs": [
    {
     "data": {
      "text/plain": [
       "Counter({'a': 4, 'b': 3, 'c': 9})"
      ]
     },
     "execution_count": 22,
     "metadata": {},
     "output_type": "execute_result"
    }
   ],
   "source": [
    "c = Counter(a=3, b=1, c=4)\n",
    "d = Counter(a=1, b=2, c=5)\n",
    "c + d"
   ]
  },
  {
   "cell_type": "code",
   "execution_count": 23,
   "metadata": {},
   "outputs": [
    {
     "data": {
      "text/plain": [
       "Counter({'a': 2})"
      ]
     },
     "execution_count": 23,
     "metadata": {},
     "output_type": "execute_result"
    }
   ],
   "source": [
    "c - d"
   ]
  },
  {
   "cell_type": "code",
   "execution_count": 24,
   "metadata": {},
   "outputs": [
    {
     "name": "stdout",
     "output_type": "stream",
     "text": [
      "Counter({'c': 4, 'a': 3, 'b': 1})\n",
      "Counter({'c': 5, 'b': 2, 'a': 1})\n"
     ]
    }
   ],
   "source": [
    "print(c, d, sep='\\n')"
   ]
  },
  {
   "cell_type": "markdown",
   "metadata": {
    "slideshow": {
     "slide_type": "subslide"
    }
   },
   "source": [
    "## Lab: Counters\n",
    "* Use a __`Counter`__ to count the words in a file\n",
    "* That is, read in a file, separate it into words, and use a __`Counter`__ to count the number of occurrences of each word in the file.\n",
    "* Print out the 10 most common words in the file"
   ]
  },
  {
   "cell_type": "code",
   "execution_count": null,
   "metadata": {},
   "outputs": [],
   "source": []
  }
 ],
 "metadata": {
  "celltoolbar": "Slideshow",
  "kernelspec": {
   "display_name": "Python 3.8.9 64-bit",
   "language": "python",
   "name": "python3"
  },
  "language_info": {
   "codemirror_mode": {
    "name": "ipython",
    "version": 3
   },
   "file_extension": ".py",
   "mimetype": "text/x-python",
   "name": "python",
   "nbconvert_exporter": "python",
   "pygments_lexer": "ipython3",
   "version": "3.8.9"
  },
  "vscode": {
   "interpreter": {
    "hash": "31f2aee4e71d21fbe5cf8b01ff0e069b9275f58929596ceb00d14d90e3e16cd6"
   }
  }
 },
 "nbformat": 4,
 "nbformat_minor": 1
}
