{
 "cells": [
  {
   "cell_type": "markdown",
   "metadata": {
    "slideshow": {
     "slide_type": "slide"
    }
   },
   "source": [
    "# Functional Closures and Decorators"
   ]
  },
  {
   "cell_type": "markdown",
   "metadata": {
    "slideshow": {
     "slide_type": "subslide"
    }
   },
   "source": [
    "##  Closures"
   ]
  },
  {
   "cell_type": "markdown",
   "metadata": {},
   "source": [
    "### Wiki says:  \n",
    "In programming languages, a closure, also lexical closure or function closure, is a technique for implementing lexically scoped name binding in a language with first-class functions. Operationally, a closure is a record storing a function[a] together with an environment.[1] The environment is a mapping associating each free variable of the function (variables that are used locally, but defined in an enclosing scope) with the value or reference to which the name was bound when the closure was created.[b] Unlike a plain function, a closure allows the function to access those captured variables through the closure's copies of their values or references, even when the function is invoked outside their scope."
   ]
  },
  {
   "cell_type": "code",
   "execution_count": 1,
   "metadata": {
    "slideshow": {
     "slide_type": "subslide"
    }
   },
   "outputs": [],
   "source": [
    "a = 'global var'\n",
    "   \n",
    "def outer_func():\n",
    "    b = 'local to outer_func()'\n",
    "    def inner_func():\n",
    "        c = 'local to inner_func()'\n",
    "        print(b, 'enclosing scope')\n",
    "        print(a, 'global scope')\n",
    "        \n",
    "    inner_func()"
   ]
  },
  {
   "cell_type": "code",
   "execution_count": 2,
   "metadata": {},
   "outputs": [
    {
     "name": "stdout",
     "output_type": "stream",
     "text": [
      "local to outer_func() enclosing scope\n",
      "global var global scope\n"
     ]
    }
   ],
   "source": [
    "outer_func()"
   ]
  },
  {
   "cell_type": "markdown",
   "metadata": {
    "slideshow": {
     "slide_type": "subslide"
    }
   },
   "source": [
    "* When a function references a name that is not local, Python first attempts to resolve that name in the enclosing scope\n",
    "* A *closure* is a nested function which remembers a value or values from the enclosing lexical scope even when the program flow is no longer in the enclosing scope"
   ]
  },
  {
   "cell_type": "code",
   "execution_count": 15,
   "metadata": {
    "slideshow": {
     "slide_type": "subslide"
    }
   },
   "outputs": [
    {
     "name": "stdout",
     "output_type": "stream",
     "text": [
      "id(x): 100d4a5b8\n",
      "10\n",
      "id(adder): 1046c3040\n",
      "about to call add39\n",
      "in adder\n"
     ]
    },
    {
     "data": {
      "text/plain": [
       "148"
      ]
     },
     "execution_count": 15,
     "metadata": {},
     "output_type": "execute_result"
    }
   ],
   "source": [
    "def make_adder(x, z):\n",
    "    # print x's address\n",
    "    print('id(x): %x' % id(x))\n",
    "    # enclosing scope\n",
    "    print(z)\n",
    "    def adder(y):\n",
    "        print('in adder')\n",
    "        return x + y # Python uses LEGB to find 'x'\n",
    "    \n",
    "    print('id(adder): %x' % id(adder))\n",
    "    return adder # we return the function adder (i.e., its address in memory) \n",
    "\n",
    "add49 = make_adder(39, 10)\n",
    "print('about to call add39')\n",
    "add49(109)"
   ]
  },
  {
   "cell_type": "code",
   "execution_count": 12,
   "metadata": {},
   "outputs": [
    {
     "name": "stdout",
     "output_type": "stream",
     "text": [
      "<class 'function'>\n",
      "<function make_adder.<locals>.adder at 0x109720940>\n"
     ]
    }
   ],
   "source": [
    "# let's use repr so we can see the address of the function\n",
    "# we could use print(\"%X\") as well...\n",
    "print(type(add49), repr(add49), sep='\\n')"
   ]
  },
  {
   "cell_type": "code",
   "execution_count": 13,
   "metadata": {
    "scrolled": true
   },
   "outputs": [
    {
     "data": {
      "text/plain": [
       "(<cell at 0x1045a36d0: int object at 0x100d4a5b8>,)"
      ]
     },
     "execution_count": 13,
     "metadata": {},
     "output_type": "execute_result"
    }
   ],
   "source": [
    "# all functions have a closure attribute\n",
    "add49.__closure__"
   ]
  },
  {
   "cell_type": "code",
   "execution_count": 8,
   "metadata": {},
   "outputs": [
    {
     "data": {
      "text/plain": [
       "39"
      ]
     },
     "execution_count": 8,
     "metadata": {},
     "output_type": "execute_result"
    }
   ],
   "source": [
    "# notice that the cell object has a reference to an int object\n",
    "add49.__closure__[0].cell_contents"
   ]
  },
  {
   "cell_type": "code",
   "execution_count": 16,
   "metadata": {},
   "outputs": [
    {
     "name": "stdout",
     "output_type": "stream",
     "text": [
      "None\n"
     ]
    }
   ],
   "source": [
    "print(make_adder.__closure__)"
   ]
  },
  {
   "cell_type": "markdown",
   "metadata": {
    "collapsed": true,
    "slideshow": {
     "slide_type": "subslide"
    }
   },
   "source": [
    "* One case where closures are frequently used is in building function wrappers\n",
    "* Suppose we want to log each invocation of a function:"
   ]
  },
  {
   "cell_type": "code",
   "execution_count": 20,
   "metadata": {
    "slideshow": {
     "slide_type": "-"
    }
   },
   "outputs": [],
   "source": [
    "def logging(f):\n",
    "    def wrapper(*args, **kwargs):\n",
    "        print('Calling %r(%r, %r)' % (f, args, kwargs))\n",
    "        return f(*args, **kwargs)\n",
    "    return wrapper"
   ]
  },
  {
   "cell_type": "code",
   "execution_count": 18,
   "metadata": {
    "slideshow": {
     "slide_type": "-"
    }
   },
   "outputs": [],
   "source": [
    "logging_add39 = logging(add49)"
   ]
  },
  {
   "cell_type": "code",
   "execution_count": 22,
   "metadata": {
    "slideshow": {
     "slide_type": "-"
    }
   },
   "outputs": [
    {
     "name": "stdout",
     "output_type": "stream",
     "text": [
      "in adder\n",
      "44\n"
     ]
    }
   ],
   "source": [
    "print(add49(5)) # remember that add39 just adds 39 to our argument"
   ]
  },
  {
   "cell_type": "code",
   "execution_count": 23,
   "metadata": {
    "slideshow": {
     "slide_type": "-"
    }
   },
   "outputs": [
    {
     "name": "stdout",
     "output_type": "stream",
     "text": [
      "Calling <function make_adder.<locals>.adder at 0x1046c3040>((5,), {})\n",
      "in adder\n",
      "44\n"
     ]
    }
   ],
   "source": [
    "print(logging_add39(5))"
   ]
  },
  {
   "cell_type": "code",
   "execution_count": 24,
   "metadata": {
    "slideshow": {
     "slide_type": "subslide"
    }
   },
   "outputs": [
    {
     "data": {
      "text/plain": [
       "<function __main__.make_adder.<locals>.adder(y)>"
      ]
     },
     "execution_count": 24,
     "metadata": {},
     "output_type": "execute_result"
    }
   ],
   "source": [
    "logging_add39.__closure__[0].cell_contents"
   ]
  },
  {
   "cell_type": "markdown",
   "metadata": {},
   "source": [
    "## Closure vs Classes?"
   ]
  },
  {
   "cell_type": "markdown",
   "metadata": {
    "slideshow": {
     "slide_type": "subslide"
    }
   },
   "source": [
    "## Decorators\n",
    "* Wrapper functions are so common, that Python has its own term for it–a *decorator*.\n",
    "* Why might you want to use a decorator?\n",
    "  * sometimes you want to modify a function’s behavior without explicitly modifying the function, e.g., pre/post actions, debugging, etc. \n",
    "  * suppose we have a set of tasks that need to be performed by many different functions, e.g.,\n",
    "   * access control\n",
    "   * cleanup\n",
    "   * error handling\n",
    "   * logging\n",
    " * ...in other words, there is some boilerplate code that needs to be executed before or after  every invocation of the function\n"
   ]
  },
  {
   "cell_type": "markdown",
   "metadata": {
    "slideshow": {
     "slide_type": "subslide"
    }
   },
   "source": [
    "## Decorators build on topics we already know...\n",
    "* nested functions\n",
    "* variable positional args (Non-Keyword Arguments) (`*args`)\n",
    "* variable keyword args (`**kwargs`)\n",
    "* functions are objects (actually everything in Python is an object)"
   ]
  },
  {
   "cell_type": "code",
   "execution_count": 27,
   "metadata": {},
   "outputs": [],
   "source": [
    "def document_it(func):\n",
    "    # below is a nested, or inner function\n",
    "    def new_function(*args, **kwargs):\n",
    "        print(f'Running function: {func.__name__}')\n",
    "        print(f'Positional arguments: {args}')\n",
    "        print(f'Keyword arguments: {kwargs}')\n",
    "        # here we invoke the function passed in as an argument\n",
    "        result = func(*args, **kwargs)\n",
    "        print(f'Result: {result}')\n",
    "        return result\n",
    "    \n",
    "    # document_it() is returning a reference to the inner function\n",
    "    return new_function"
   ]
  },
  {
   "cell_type": "code",
   "execution_count": 28,
   "metadata": {},
   "outputs": [
    {
     "name": "stdout",
     "output_type": "stream",
     "text": [
      "Running plain old add_things()\n",
      "18\n"
     ]
    }
   ],
   "source": [
    "def add_things(a, b):\n",
    "    return a + b\n",
    "\n",
    "print('Running plain old add_things()')\n",
    "print(add_things(13, 5))"
   ]
  },
  {
   "cell_type": "code",
   "execution_count": 29,
   "metadata": {},
   "outputs": [],
   "source": [
    "# manual decorator assignment\n",
    "cooler_add_things = document_it(add_things) "
   ]
  },
  {
   "cell_type": "code",
   "execution_count": 30,
   "metadata": {},
   "outputs": [
    {
     "name": "stdout",
     "output_type": "stream",
     "text": [
      "Running cooler_add_things()\n",
      "Running function: add_things\n",
      "Positional arguments: (13, 5)\n",
      "Keyword arguments: {}\n",
      "Result: 18\n"
     ]
    },
    {
     "data": {
      "text/plain": [
       "18"
      ]
     },
     "execution_count": 30,
     "metadata": {},
     "output_type": "execute_result"
    }
   ],
   "source": [
    "print('Running cooler_add_things()')\n",
    "cooler_add_things(13, 5)"
   ]
  },
  {
   "cell_type": "code",
   "execution_count": 33,
   "metadata": {},
   "outputs": [
    {
     "name": "stdout",
     "output_type": "stream",
     "text": [
      "Running function: add_things\n",
      "Positional arguments: (13, -5)\n",
      "Keyword arguments: {}\n",
      "Result: 8\n",
      "8\n"
     ]
    }
   ],
   "source": [
    "# decorator shorthand for what we did above\n",
    "\n",
    "# from salesforce_approved_decorator import document_it\n",
    "\n",
    "def document_it(func):\n",
    "    # below is a nested, or inner function\n",
    "    def new_function(*args, **kwargs):\n",
    "        print(f'Running function: {func.__name__}')\n",
    "        print(f'Positional arguments: {args}')\n",
    "        print(f'Keyword arguments: {kwargs}')\n",
    "        # here we invoke the function passed in as an argument\n",
    "        result = func(*args, **kwargs)\n",
    "        print(f'Result: {result}')\n",
    "        return result\n",
    "    \n",
    "    # document_it() is returning a reference to the inner function\n",
    "    return new_function\n",
    "\n",
    "@document_it\n",
    "def add_things(a, b):\n",
    "    return a + b\n",
    "\n",
    "# add_things = document_it(add_things)\n",
    "\n",
    "print(add_things(13, -5))"
   ]
  },
  {
   "cell_type": "markdown",
   "metadata": {},
   "source": []
  },
  {
   "cell_type": "markdown",
   "metadata": {},
   "source": [
    "## Lab: Decorators\n",
    "1. Create some function which takes an integer as its parameter\n",
    "  * Create a wrapper that ensures the parameter is positive\n",
    "  * use that wrapper to decorate your original function\n",
    "2. Make a timer decorator that computes the elapsed time of the function wrapped by it\n"
   ]
  },
  {
   "cell_type": "code",
   "execution_count": 71,
   "metadata": {},
   "outputs": [
    {
     "name": "stdout",
     "output_type": "stream",
     "text": [
      "Function long_time executed in 0.0010900497436523438s\n"
     ]
    }
   ],
   "source": [
    "from time import time\n",
    "  \n",
    "  \n",
    "def timer_func(func):\n",
    "    def wrap_func(*args, **kwargs):\n",
    "        t1 = time()\n",
    "        result = func(*args, **kwargs)\n",
    "        t2 = time()\n",
    "        print(f'Function {func.__name__} executed in {(t2-t1)}s')\n",
    "        return result\n",
    "    return wrap_func\n",
    "\n",
    "@timer_func\n",
    "def long_time(n):\n",
    "    for i in range(n*1000):\n",
    "        pass\n",
    "        \n",
    "\n",
    "long_time(100)"
   ]
  },
  {
   "cell_type": "markdown",
   "metadata": {},
   "source": [
    "## Problem with this implementation of decorators"
   ]
  },
  {
   "cell_type": "code",
   "execution_count": 39,
   "metadata": {},
   "outputs": [
    {
     "name": "stdout",
     "output_type": "stream",
     "text": [
      "Namaste, Philip!\n",
      "Bonjour, Rohan!\n"
     ]
    }
   ],
   "source": [
    "\t\n",
    "def my_decorator(original_func):\n",
    "    def wrapper(*args, **kwargs):\n",
    "        \"\"\"this is wrapper documentation....\"\"\"\n",
    "        \n",
    "        original_func(*args,**kwargs)\n",
    "    return wrapper\n",
    " \n",
    "def greet_hindi(name:str):\n",
    "    \"\"\"Greets in english\"\"\"\n",
    "    print(f'Namaste, {name}!')\n",
    " \n",
    "@my_decorator\n",
    "def greet_french(name:str):\n",
    "    \"\"\"Greets in french\"\"\"\n",
    "    print(f'Bonjour, {name}!')\n",
    " \n",
    "greet_hindi('Philip')\n",
    "greet_french('Rohan')"
   ]
  },
  {
   "cell_type": "code",
   "execution_count": 40,
   "metadata": {},
   "outputs": [
    {
     "name": "stdout",
     "output_type": "stream",
     "text": [
      "greet_hindi Greets in english\n",
      "wrapper this is wrapper documentation....\n"
     ]
    }
   ],
   "source": [
    "print(greet_hindi.__name__,greet_hindi.__doc__)\n",
    "print(greet_french.__name__,greet_french.__doc__)"
   ]
  },
  {
   "cell_type": "markdown",
   "metadata": {},
   "source": [
    "# Using Functools"
   ]
  },
  {
   "cell_type": "code",
   "execution_count": 63,
   "metadata": {},
   "outputs": [
    {
     "data": {
      "text/plain": [
       "'f'"
      ]
     },
     "execution_count": 63,
     "metadata": {},
     "output_type": "execute_result"
    }
   ],
   "source": [
    "def logged(func):\n",
    "    def with_logging(*args, **kwargs):\n",
    "        print(func.__name__ + \" was called\")\n",
    "        return func(*args, **kwargs)\n",
    "    with_logging.__name__ = f.__name__\n",
    "    return with_logging\n",
    "\n",
    "\n",
    "@logged\n",
    "def f(x):\n",
    "   \"\"\"does some math\"\"\"\n",
    "   return x + x * x\n",
    "\n",
    "f = logged(f)\n",
    "f.__name__"
   ]
  },
  {
   "cell_type": "code",
   "execution_count": 45,
   "metadata": {},
   "outputs": [],
   "source": [
    "\n",
    "from functools import wraps\n",
    " \n",
    "def a_decorator(func):\n",
    "    @wraps(func)\n",
    "    def wrapper(*args, **kwargs):\n",
    "        \"\"\"A wrapper function\"\"\"\n",
    "        print(\"called before func\")\n",
    "        # Extend some capabilities of func\n",
    "        func()\n",
    "    return wrapper\n",
    " \n",
    "@a_decorator\n",
    "def first_function():\n",
    "    \"\"\"This is docstring for first function\"\"\"\n",
    "    print(\"first function\")"
   ]
  },
  {
   "cell_type": "code",
   "execution_count": 46,
   "metadata": {},
   "outputs": [
    {
     "name": "stdout",
     "output_type": "stream",
     "text": [
      "called before func\n",
      "first function\n",
      "first_function This is docstring for first function\n"
     ]
    }
   ],
   "source": [
    "first_function()\n",
    "print(first_function.__name__,first_function.__doc__)"
   ]
  },
  {
   "cell_type": "markdown",
   "metadata": {},
   "source": [
    "## Passing a Parameter to decorator functions"
   ]
  },
  {
   "cell_type": "code",
   "execution_count": 62,
   "metadata": {},
   "outputs": [],
   "source": [
    "def decoratory_factory(argument):\n",
    "    def decorator(function):\n",
    "        def wrapper(*args, **kwargs):\n",
    "            print(function, argument)\n",
    "            result = function(*args, **kwargs)\n",
    "            return result\n",
    "        return wrapper\n",
    "    return decorator\n"
   ]
  },
  {
   "cell_type": "code",
   "execution_count": 72,
   "metadata": {},
   "outputs": [],
   "source": [
    "def logged(func):\n",
    "    def with_logging(*args, **kwargs):\n",
    "        print(func.__name__ + \" was called\")\n",
    "        return func(*args, **kwargs)\n",
    "    return with_logging\n",
    "\n",
    "@logged\n",
    "@timer_func\n",
    "def dummy_func():\n",
    "    print(\"in dummy func\")\n",
    "\n",
    "dummy_func = logged(timer_func(dummy_func))\n",
    "\n",
    "# decorated_argumented = decoratory_factory(\"abc\")\n",
    "# print(decorated_argumented)\n",
    "\n",
    "# @decorated_argumented\n",
    "# def dummy_func_2():\n",
    "#     print(\"in dummy func\")"
   ]
  },
  {
   "cell_type": "code",
   "execution_count": 73,
   "metadata": {},
   "outputs": [
    {
     "name": "stdout",
     "output_type": "stream",
     "text": [
      "wrap_func was called\n",
      "in dummy func\n",
      "Function dummy_func executed in 2.6226043701171875e-06s\n"
     ]
    }
   ],
   "source": [
    "dummy_func()\n",
    "# dummy_func_2()"
   ]
  },
  {
   "cell_type": "code",
   "execution_count": 38,
   "metadata": {},
   "outputs": [],
   "source": [
    "from functools import wraps\n",
    "\n",
    "def decorator_factory(argument):\n",
    "    def a_decorator(func):\n",
    "        @wraps(func)\n",
    "        def wrapper(*args, **kwargs):\n",
    "            \"\"\"A wrapper function\"\"\"\n",
    "            print(\"called before func with \", argument, func)\n",
    "            # Extend some capabilities of func\n",
    "            func()\n",
    "        return wrapper\n",
    "    return a_decorator\n"
   ]
  },
  {
   "cell_type": "code",
   "execution_count": 39,
   "metadata": {},
   "outputs": [],
   "source": [
    "@decorator_factory(\"hello\")\n",
    "def sec_func():\n",
    "    print(\"hello\")\n",
    "    pass"
   ]
  },
  {
   "cell_type": "code",
   "execution_count": 40,
   "metadata": {},
   "outputs": [
    {
     "name": "stdout",
     "output_type": "stream",
     "text": [
      "called before func with  hello <function sec_func at 0x109ea43a0>\n",
      "hello\n"
     ]
    }
   ],
   "source": [
    "sec_func()"
   ]
  },
  {
   "cell_type": "markdown",
   "metadata": {},
   "source": [
    "### Django using decorators https://docs.djangoproject.com/en/4.1/topics/auth/default/"
   ]
  },
  {
   "cell_type": "markdown",
   "metadata": {},
   "source": []
  }
 ],
 "metadata": {
  "celltoolbar": "Slideshow",
  "kernelspec": {
   "display_name": "Python 3.8.9 64-bit",
   "language": "python",
   "name": "python3"
  },
  "language_info": {
   "codemirror_mode": {
    "name": "ipython",
    "version": 3
   },
   "file_extension": ".py",
   "mimetype": "text/x-python",
   "name": "python",
   "nbconvert_exporter": "python",
   "pygments_lexer": "ipython3",
   "version": "3.8.9"
  },
  "vscode": {
   "interpreter": {
    "hash": "31f2aee4e71d21fbe5cf8b01ff0e069b9275f58929596ceb00d14d90e3e16cd6"
   }
  }
 },
 "nbformat": 4,
 "nbformat_minor": 1
}
